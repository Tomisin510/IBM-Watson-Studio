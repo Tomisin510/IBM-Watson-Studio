{
 "cells": [
  {
   "cell_type": "markdown",
   "metadata": {},
   "source": [
    "<center>\n",
    "    <img src=\"https://cf-courses-data.s3.us.cloud-object-storage.appdomain.cloud/IBMDeveloperSkillsNetwork-DS0105EN-SkillsNetwork/labs/Module2/images/SN_web_lightmode.png\" width=\"300\" alt=\"cognitiveclass.ai logo\">\n",
    "</center>\n"
   ]
  },
  {
   "cell_type": "markdown",
   "metadata": {},
   "source": [
    "#### Add your code below following the instructions given in the course\n"
   ]
  },
  {
   "cell_type": "markdown",
   "metadata": {},
   "source": [
    "# The Title of the notebook is Jupyter_Notebook"
   ]
  },
  {
   "cell_type": "markdown",
   "metadata": {},
   "source": [
    "**Introduction** <br> This is a brief introduction to this Assignment."
   ]
  },
  {
   "cell_type": "markdown",
   "metadata": {},
   "source": [
    "The programming languages used in Data Science are: <br>\n",
    "* Python\n",
    "* R Language\n",
    "* SQL\n",
    "* Java\n",
    "* Scala\n",
    "* C++\n",
    "* Julia\n",
    "* Javascript\n"
   ]
  },
  {
   "cell_type": "markdown",
   "metadata": {},
   "source": [
    "Here is the list of libraries used in Data Science:\n",
    "* TensorFlow\n",
    "* Scikit-learn\n",
    "* PyTorch\n",
    "* Keras\n",
    "* Matplotlib\n",
    "* Pandas\n",
    "* NumPy\n",
    "* SciPy\n",
    "* Ggplot\n",
    "* ApacheSpark\n"
   ]
  },
  {
   "cell_type": "markdown",
   "metadata": {},
   "source": [
    "| Open Source Tools | Data Integration and transformation Tools | Data Visualization Tools | Model Deployment Tools | Model Monitoring tools | Code Asset Management tools | Data Asset management tools |\n",
    "| --- | --- | --- | --- | --- | --- | --- |\n",
    "| Relational database | Apache Airflow | Hive | Apache Prediction 10 | Model DB | Git | Apache Atlas |\n",
    "| NoSQL Databases | Kubeflow | Kibana | Seldon | Prometheus | GitHub | ODPi Egeria | \n",
    "| File-based tools | Apache kafka | Apache Superset | Mleap | IBM AI Fairness 360 | GitLab | Kylo |\n"
   ]
  },
  {
   "cell_type": "markdown",
   "metadata": {},
   "source": [
    "_Below is a simple arithmetic expression_"
   ]
  },
  {
   "cell_type": "code",
   "execution_count": 1,
   "metadata": {},
   "outputs": [
    {
     "data": {
      "text/plain": [
       "11520"
      ]
     },
     "execution_count": 1,
     "metadata": {},
     "output_type": "execute_result"
    }
   ],
   "source": [
    "(125 * 36) + (78 * 90)"
   ]
  },
  {
   "cell_type": "code",
   "execution_count": 9,
   "metadata": {},
   "outputs": [
    {
     "name": "stdin",
     "output_type": "stream",
     "text": [
      "Input time in minutes:  220\n"
     ]
    },
    {
     "name": "stdout",
     "output_type": "stream",
     "text": [
      "hour:minute-> 3:40\n"
     ]
    }
   ],
   "source": [
    "time = float(input(\"Input time in minutes: \"))\n",
    "hour = time // 60\n",
    "time %= 60\n",
    "minutes = time\n",
    "print(\"hour:minute-> %d:%d\" % (hour, minutes))"
   ]
  },
  {
   "cell_type": "markdown",
   "metadata": {},
   "source": [
    "__Objectives__ <br>\n",
    "1. Create a markdown cell with the title of the notebook.\n",
    "2. Create a markdown cell for an introduction.\n",
    "3. Create a markdown cell to list data science languages.\n",
    "4. Create a markdown cell to list data science libraries.\n",
    "5.  Create a markdown cell with a table of Data Science tools.\n",
    "6. Create a markdown cell introducing arithmetic expression examples.\n",
    "7. Create a code cell to multiply and add numbers.\n",
    "8. Create a code cell to convert minutes to hours.\n",
    "9. Insert a markdown cell to list Objectives.\n",
    "10. Create a markdown cell to indicate the Author’s name.\n",
    "11. Share your notebook through GitHub.\n",
    "12. Take a screenshot of the first page of the notebook."
   ]
  },
  {
   "cell_type": "markdown",
   "metadata": {},
   "source": [
    "_Author's name:_ **Tomisin O. Obijole**"
   ]
  },
  {
   "cell_type": "code",
   "execution_count": null,
   "metadata": {},
   "outputs": [],
   "source": []
  },
  {
   "cell_type": "code",
   "execution_count": null,
   "metadata": {},
   "outputs": [],
   "source": []
  },
  {
   "cell_type": "code",
   "execution_count": 2,
   "metadata": {},
   "outputs": [
    {
     "name": "stdin",
     "output_type": "stream",
     "text": [
      "Input time in seconds:  566780\n"
     ]
    },
    {
     "name": "stdout",
     "output_type": "stream",
     "text": [
      "d:h:m:s-> 6:13:26:20\n"
     ]
    }
   ],
   "source": [
    "time = float(input(\"Input time in seconds: \"))\n",
    "day = time // (24 * 3600)\n",
    "time = time % (24 * 3600)\n",
    "hour = time // 3600\n",
    "time %= 3600\n",
    "minutes = time // 60\n",
    "time %= 60\n",
    "seconds = time\n",
    "print(\"d:h:m:s-> %d:%d:%d:%d\" % (day, hour, minutes, seconds))\n"
   ]
  },
  {
   "cell_type": "code",
   "execution_count": null,
   "metadata": {},
   "outputs": [],
   "source": [
    "568990"
   ]
  }
 ],
 "metadata": {
  "kernelspec": {
   "display_name": "Python",
   "language": "python",
   "name": "conda-env-python-py"
  },
  "language_info": {
   "codemirror_mode": {
    "name": "ipython",
    "version": 3
   },
   "file_extension": ".py",
   "mimetype": "text/x-python",
   "name": "python",
   "nbconvert_exporter": "python",
   "pygments_lexer": "ipython3",
   "version": "3.7.12"
  }
 },
 "nbformat": 4,
 "nbformat_minor": 4
}
